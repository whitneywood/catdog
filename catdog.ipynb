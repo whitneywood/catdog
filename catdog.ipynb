{
 "cells": [
  {
   "attachments": {},
   "cell_type": "markdown",
   "metadata": {},
   "source": [
    "### CatDog Viz"
   ]
  },
  {
   "attachments": {},
   "cell_type": "markdown",
   "metadata": {},
   "source": [
    "#### Import Packages"
   ]
  },
  {
   "cell_type": "code",
   "execution_count": 1,
   "metadata": {},
   "outputs": [],
   "source": [
    "import pandas as pd\n",
    "from vizmath import vmath, points"
   ]
  },
  {
   "attachments": {},
   "cell_type": "markdown",
   "metadata": {},
   "source": [
    "#### Read in Data Source (sourced from Google Trends)"
   ]
  },
  {
   "cell_type": "code",
   "execution_count": 3,
   "metadata": {},
   "outputs": [
    {
     "data": {
      "text/html": [
       "<div>\n",
       "<style scoped>\n",
       "    .dataframe tbody tr th:only-of-type {\n",
       "        vertical-align: middle;\n",
       "    }\n",
       "\n",
       "    .dataframe tbody tr th {\n",
       "        vertical-align: top;\n",
       "    }\n",
       "\n",
       "    .dataframe thead th {\n",
       "        text-align: right;\n",
       "    }\n",
       "</style>\n",
       "<table border=\"1\" class=\"dataframe\">\n",
       "  <thead>\n",
       "    <tr style=\"text-align: right;\">\n",
       "      <th></th>\n",
       "      <th>Country</th>\n",
       "      <th>cat</th>\n",
       "      <th>dog</th>\n",
       "    </tr>\n",
       "  </thead>\n",
       "  <tbody>\n",
       "    <tr>\n",
       "      <th>0</th>\n",
       "      <td>Australia</td>\n",
       "      <td>0.20</td>\n",
       "      <td>0.61</td>\n",
       "    </tr>\n",
       "    <tr>\n",
       "      <th>1</th>\n",
       "      <td>United States</td>\n",
       "      <td>0.22</td>\n",
       "      <td>0.63</td>\n",
       "    </tr>\n",
       "    <tr>\n",
       "      <th>2</th>\n",
       "      <td>Canada</td>\n",
       "      <td>0.26</td>\n",
       "      <td>0.59</td>\n",
       "    </tr>\n",
       "    <tr>\n",
       "      <th>3</th>\n",
       "      <td>United Kingdom</td>\n",
       "      <td>0.25</td>\n",
       "      <td>0.57</td>\n",
       "    </tr>\n",
       "    <tr>\n",
       "      <th>4</th>\n",
       "      <td>New Zealand</td>\n",
       "      <td>0.28</td>\n",
       "      <td>0.52</td>\n",
       "    </tr>\n",
       "  </tbody>\n",
       "</table>\n",
       "</div>"
      ],
      "text/plain": [
       "          Country   cat   dog\n",
       "0       Australia  0.20  0.61\n",
       "1   United States  0.22  0.63\n",
       "2          Canada  0.26  0.59\n",
       "3  United Kingdom  0.25  0.57\n",
       "4     New Zealand  0.28  0.52"
      ]
     },
     "execution_count": 3,
     "metadata": {},
     "output_type": "execute_result"
    }
   ],
   "source": [
    "# From Google Trends: 2004-2023 popularity between searches for Pet Cat or Dog compared to other common pets (rabbit,fish,bird) for 32 countries that returned data\n",
    "df = pd.read_csv('catsdogs.csv') # pandas read\n",
    "df.head() # preview data: Country (will visualize each country's flag), cat (search %), dog (search %)"
   ]
  },
  {
   "attachments": {},
   "cell_type": "markdown",
   "metadata": {},
   "source": [
    "#### Setup some vizmath classes and drawing variables"
   ]
  },
  {
   "cell_type": "code",
   "execution_count": 4,
   "metadata": {},
   "outputs": [],
   "source": [
    "vm = vmath() # will use to call some vizmath functions\n",
    "catdog_flags = points() # vizmath object to hold data for drawing nation flags\n",
    "catdog_sigmoid = points() # vizmath object to hold data for drawing cat-dog connections\n",
    "x_max = df.shape[0] # save the row count (number of countries)\n",
    "y_min = 1 # setup an offset to use as a radius\n",
    "x = 0 # setup an offset to draw seperate each country"
   ]
  },
  {
   "attachments": {},
   "cell_type": "markdown",
   "metadata": {},
   "source": [
    "#### Loop through each row (country) in the dataset and draw points to represent the data "
   ]
  },
  {
   "cell_type": "code",
   "execution_count": 5,
   "metadata": {},
   "outputs": [],
   "source": [
    "for i, row in df.sort_values(by=['cat'], ascending=False).iterrows(): # sort values by the cat percentage\n",
    "    x += 1 # start at 1 and increment at 1\n",
    "    y_cat = row['cat'] # cat percentage\n",
    "    y_dog = row['dog'] # dog percentage\n",
    "    country = row['Country'] # country\n",
    "\n",
    "    cs = 1 # setup a jitter order constant in case of 2 points (a country's cat and dog values) being too close together\n",
    "    if y_cat < y_dog: # adjust constant based on the animal with the higher value\n",
    "        cs = -1\n",
    "    xci = x+.15*cs # jitter by a placement constant of .15 for cats\n",
    "    xdi = x+.15*(-cs) # same as above for dogs\n",
    "    xc,yc=vm.polarize(xci,x_max,y_cat+y_min) # use the vizmath function to convert cartesian to polar coordinates (cats)\n",
    "    xd,yd=vm.polarize(xdi,x_max,y_dog+y_min) # same as above (dogs)\n",
    "\n",
    "    xf,yf=vm.polarize(x,x_max,-0.065+y_min) # use the vizmath function to convert cartesian to polar (country flags)\n",
    "    catdog_flags.append(id=country,x=xc,y=yc,path=0,animal='cat',value=y_cat,country=country) # add data to vizmath object for cats\n",
    "    catdog_flags.append(id=country,x=xd,y=yd,path=1,animal='dog',value=y_dog,country=country) # same for dogs\n",
    "    catdog_flags.append(id=country,x=xf,y=yf,path=-1,animal='flag',value=0,country=country) # same for country flags\n",
    "\n",
    "    sig = vm.sigmoid(xci, y_cat+y_min, xdi, y_dog+y_min, 20, orientation = 'v', limit = 4) # use the vizmath function to draw points along a sigmoid path\n",
    "    sp = 1 # setup a sigmoid point id\n",
    "    y_diff = abs(y_cat-y_dog) # get the seperation value between each cat and dog as an interesting data point to store\n",
    "    for sx, sy in sig: # iterate through each sigmoid point\n",
    "        sxp,syp=vm.polarize(sx,x_max,sy) # convert each sgmoid point to polar coordinates\n",
    "        catdog_sigmoid.append(id=country,x=sxp,y=syp,path=sp,animal='connection',value=y_diff,country=country) # add data to vizmath object for connections\n",
    "        sp += 1 # iterate the sigmoid point id"
   ]
  },
  {
   "attachments": {},
   "cell_type": "markdown",
   "metadata": {},
   "source": [
    "#### Plot the vizmath object containing the data for cats, dogs, and country flags"
   ]
  },
  {
   "cell_type": "code",
   "execution_count": 6,
   "metadata": {},
   "outputs": [
    {
     "data": {
      "image/png": "[encoded data removed]",
      "text/plain": [
       "<Figure size 640x480 with 1 Axes>"
      ]
     },
     "metadata": {},
     "output_type": "display_data"
    }
   ],
   "source": [
    "catdog_flags.plot_xy()"
   ]
  },
  {
   "attachments": {},
   "cell_type": "markdown",
   "metadata": {},
   "source": [
    "#### Plot the vizmath object containing the data for cat-dog connections"
   ]
  },
  {
   "cell_type": "code",
   "execution_count": 7,
   "metadata": {},
   "outputs": [
    {
     "data": {
      "image/png": "[encoded data removed]",
      "text/plain": [
       "<Figure size 640x480 with 1 Axes>"
      ]
     },
     "metadata": {},
     "output_type": "display_data"
    }
   ],
   "source": [
    "catdog_sigmoid.plot_xy()"
   ]
  },
  {
   "attachments": {},
   "cell_type": "markdown",
   "metadata": {},
   "source": [
    "#### Create dataframe from both vizmath objects and rescale each to a 2-unit space around 0,0"
   ]
  },
  {
   "cell_type": "code",
   "execution_count": 11,
   "metadata": {},
   "outputs": [],
   "source": [
    "catdog_flags.to_dataframe() # add a dataframe version of the data to the vizmath object\n",
    "catdog_flags.dataframe_rescale(xmin=-2,xmax=2,ymin=-2,ymax=2) # rescale the x-y space (for Tableau's map layers)\n",
    "\n",
    "catdog_sigmoid.to_dataframe() # same as above\n",
    "catdog_sigmoid.dataframe_rescale(xmin=-2,xmax=2,ymin=-2,ymax=2) # same as above"
   ]
  },
  {
   "cell_type": "code",
   "execution_count": 12,
   "metadata": {},
   "outputs": [
    {
     "data": {
      "text/html": [
       "<div>\n",
       "<style scoped>\n",
       "    .dataframe tbody tr th:only-of-type {\n",
       "        vertical-align: middle;\n",
       "    }\n",
       "\n",
       "    .dataframe tbody tr th {\n",
       "        vertical-align: top;\n",
       "    }\n",
       "\n",
       "    .dataframe thead th {\n",
       "        text-align: right;\n",
       "    }\n",
       "</style>\n",
       "<table border=\"1\" class=\"dataframe\">\n",
       "  <thead>\n",
       "    <tr style=\"text-align: right;\">\n",
       "      <th></th>\n",
       "      <th>animal</th>\n",
       "      <th>country</th>\n",
       "      <th>id</th>\n",
       "      <th>path</th>\n",
       "      <th>value</th>\n",
       "      <th>x</th>\n",
       "      <th>y</th>\n",
       "    </tr>\n",
       "  </thead>\n",
       "  <tbody>\n",
       "    <tr>\n",
       "      <th>0</th>\n",
       "      <td>cat</td>\n",
       "      <td>Saudi Arabia</td>\n",
       "      <td>Saudi Arabia</td>\n",
       "      <td>0</td>\n",
       "      <td>0.47</td>\n",
       "      <td>0.164558</td>\n",
       "      <td>0.716342</td>\n",
       "    </tr>\n",
       "    <tr>\n",
       "      <th>1</th>\n",
       "      <td>dog</td>\n",
       "      <td>Saudi Arabia</td>\n",
       "      <td>Saudi Arabia</td>\n",
       "      <td>1</td>\n",
       "      <td>0.30</td>\n",
       "      <td>0.107980</td>\n",
       "      <td>0.640968</td>\n",
       "    </tr>\n",
       "    <tr>\n",
       "      <th>2</th>\n",
       "      <td>flag</td>\n",
       "      <td>Saudi Arabia</td>\n",
       "      <td>Saudi Arabia</td>\n",
       "      <td>-1</td>\n",
       "      <td>0.00</td>\n",
       "      <td>0.091205</td>\n",
       "      <td>0.458517</td>\n",
       "    </tr>\n",
       "    <tr>\n",
       "      <th>3</th>\n",
       "      <td>cat</td>\n",
       "      <td>Türkiye</td>\n",
       "      <td>Türkiye</td>\n",
       "      <td>0</td>\n",
       "      <td>0.47</td>\n",
       "      <td>0.301147</td>\n",
       "      <td>0.670474</td>\n",
       "    </tr>\n",
       "    <tr>\n",
       "      <th>4</th>\n",
       "      <td>dog</td>\n",
       "      <td>Türkiye</td>\n",
       "      <td>Türkiye</td>\n",
       "      <td>1</td>\n",
       "      <td>0.40</td>\n",
       "      <td>0.248718</td>\n",
       "      <td>0.654324</td>\n",
       "    </tr>\n",
       "  </tbody>\n",
       "</table>\n",
       "</div>"
      ],
      "text/plain": [
       "  animal       country            id  path  value         x         y\n",
       "0    cat  Saudi Arabia  Saudi Arabia     0   0.47  0.164558  0.716342\n",
       "1    dog  Saudi Arabia  Saudi Arabia     1   0.30  0.107980  0.640968\n",
       "2   flag  Saudi Arabia  Saudi Arabia    -1   0.00  0.091205  0.458517\n",
       "3    cat       Türkiye       Türkiye     0   0.47  0.301147  0.670474\n",
       "4    dog       Türkiye       Türkiye     1   0.40  0.248718  0.654324"
      ]
     },
     "execution_count": 12,
     "metadata": {},
     "output_type": "execute_result"
    }
   ],
   "source": [
    "catdog_flags.df.head() # preview the dataframe"
   ]
  },
  {
   "cell_type": "code",
   "execution_count": 13,
   "metadata": {},
   "outputs": [
    {
     "data": {
      "text/html": [
       "<div>\n",
       "<style scoped>\n",
       "    .dataframe tbody tr th:only-of-type {\n",
       "        vertical-align: middle;\n",
       "    }\n",
       "\n",
       "    .dataframe tbody tr th {\n",
       "        vertical-align: top;\n",
       "    }\n",
       "\n",
       "    .dataframe thead th {\n",
       "        text-align: right;\n",
       "    }\n",
       "</style>\n",
       "<table border=\"1\" class=\"dataframe\">\n",
       "  <thead>\n",
       "    <tr style=\"text-align: right;\">\n",
       "      <th></th>\n",
       "      <th>animal</th>\n",
       "      <th>country</th>\n",
       "      <th>id</th>\n",
       "      <th>path</th>\n",
       "      <th>value</th>\n",
       "      <th>x</th>\n",
       "      <th>y</th>\n",
       "    </tr>\n",
       "  </thead>\n",
       "  <tbody>\n",
       "    <tr>\n",
       "      <th>0</th>\n",
       "      <td>connection</td>\n",
       "      <td>Saudi Arabia</td>\n",
       "      <td>Saudi Arabia</td>\n",
       "      <td>1</td>\n",
       "      <td>0.17</td>\n",
       "      <td>0.164558</td>\n",
       "      <td>0.716342</td>\n",
       "    </tr>\n",
       "    <tr>\n",
       "      <th>1</th>\n",
       "      <td>connection</td>\n",
       "      <td>Saudi Arabia</td>\n",
       "      <td>Saudi Arabia</td>\n",
       "      <td>2</td>\n",
       "      <td>0.17</td>\n",
       "      <td>0.163158</td>\n",
       "      <td>0.712073</td>\n",
       "    </tr>\n",
       "    <tr>\n",
       "      <th>2</th>\n",
       "      <td>connection</td>\n",
       "      <td>Saudi Arabia</td>\n",
       "      <td>Saudi Arabia</td>\n",
       "      <td>3</td>\n",
       "      <td>0.17</td>\n",
       "      <td>0.161569</td>\n",
       "      <td>0.707847</td>\n",
       "    </tr>\n",
       "    <tr>\n",
       "      <th>3</th>\n",
       "      <td>connection</td>\n",
       "      <td>Saudi Arabia</td>\n",
       "      <td>Saudi Arabia</td>\n",
       "      <td>4</td>\n",
       "      <td>0.17</td>\n",
       "      <td>0.159711</td>\n",
       "      <td>0.703682</td>\n",
       "    </tr>\n",
       "    <tr>\n",
       "      <th>4</th>\n",
       "      <td>connection</td>\n",
       "      <td>Saudi Arabia</td>\n",
       "      <td>Saudi Arabia</td>\n",
       "      <td>5</td>\n",
       "      <td>0.17</td>\n",
       "      <td>0.157482</td>\n",
       "      <td>0.699599</td>\n",
       "    </tr>\n",
       "  </tbody>\n",
       "</table>\n",
       "</div>"
      ],
      "text/plain": [
       "       animal       country            id  path  value         x         y\n",
       "0  connection  Saudi Arabia  Saudi Arabia     1   0.17  0.164558  0.716342\n",
       "1  connection  Saudi Arabia  Saudi Arabia     2   0.17  0.163158  0.712073\n",
       "2  connection  Saudi Arabia  Saudi Arabia     3   0.17  0.161569  0.707847\n",
       "3  connection  Saudi Arabia  Saudi Arabia     4   0.17  0.159711  0.703682\n",
       "4  connection  Saudi Arabia  Saudi Arabia     5   0.17  0.157482  0.699599"
      ]
     },
     "execution_count": 13,
     "metadata": {},
     "output_type": "execute_result"
    }
   ],
   "source": [
    "catdog_sigmoid.df.head() # preview the dataframe"
   ]
  },
  {
   "attachments": {},
   "cell_type": "markdown",
   "metadata": {},
   "source": [
    "#### Write out the vizmath dataframes to csv files"
   ]
  },
  {
   "cell_type": "code",
   "execution_count": 14,
   "metadata": {},
   "outputs": [],
   "source": [
    "catdog_flags.df.to_csv('catsdogs_radial.csv', encoding='utf-8', index=False) # pandas write\n",
    "catdog_sigmoid.df.to_csv('catsdogs_radial_connections.csv', encoding='utf-8', index=False) # pandas write"
   ]
  },
  {
   "attachments": {},
   "cell_type": "markdown",
   "metadata": {},
   "source": [
    "#### Create a background to finish out the viz"
   ]
  },
  {
   "cell_type": "code",
   "execution_count": 15,
   "metadata": {},
   "outputs": [
    {
     "data": {
      "text/html": [
       "<div>\n",
       "<style scoped>\n",
       "    .dataframe tbody tr th:only-of-type {\n",
       "        vertical-align: middle;\n",
       "    }\n",
       "\n",
       "    .dataframe tbody tr th {\n",
       "        vertical-align: top;\n",
       "    }\n",
       "\n",
       "    .dataframe thead th {\n",
       "        text-align: right;\n",
       "    }\n",
       "</style>\n",
       "<table border=\"1\" class=\"dataframe\">\n",
       "  <thead>\n",
       "    <tr style=\"text-align: right;\">\n",
       "      <th></th>\n",
       "      <th>id</th>\n",
       "      <th>path</th>\n",
       "      <th>x</th>\n",
       "      <th>y</th>\n",
       "    </tr>\n",
       "  </thead>\n",
       "  <tbody>\n",
       "    <tr>\n",
       "      <th>0</th>\n",
       "      <td>0.0</td>\n",
       "      <td>1</td>\n",
       "      <td>0.000000</td>\n",
       "      <td>0.500000</td>\n",
       "    </tr>\n",
       "    <tr>\n",
       "      <th>1</th>\n",
       "      <td>0.0</td>\n",
       "      <td>2</td>\n",
       "      <td>0.010471</td>\n",
       "      <td>0.499890</td>\n",
       "    </tr>\n",
       "    <tr>\n",
       "      <th>2</th>\n",
       "      <td>0.0</td>\n",
       "      <td>3</td>\n",
       "      <td>0.020938</td>\n",
       "      <td>0.499561</td>\n",
       "    </tr>\n",
       "    <tr>\n",
       "      <th>3</th>\n",
       "      <td>0.0</td>\n",
       "      <td>4</td>\n",
       "      <td>0.031395</td>\n",
       "      <td>0.499013</td>\n",
       "    </tr>\n",
       "    <tr>\n",
       "      <th>4</th>\n",
       "      <td>0.0</td>\n",
       "      <td>5</td>\n",
       "      <td>0.041839</td>\n",
       "      <td>0.498246</td>\n",
       "    </tr>\n",
       "  </tbody>\n",
       "</table>\n",
       "</div>"
      ],
      "text/plain": [
       "    id  path         x         y\n",
       "0  0.0     1  0.000000  0.500000\n",
       "1  0.0     2  0.010471  0.499890\n",
       "2  0.0     3  0.020938  0.499561\n",
       "3  0.0     4  0.031395  0.499013\n",
       "4  0.0     5  0.041839  0.498246"
      ]
     },
     "execution_count": 15,
     "metadata": {},
     "output_type": "execute_result"
    }
   ],
   "source": [
    "radial_background = points() # vizmath object to hold the data\n",
    "for i in (0., 0.5, 1.): # let's create 3 circles a reference lines in the viz\n",
    "    circle_point_list = vm.circle(0, 0, points=300, r=i+y_min, end_cap=True) # vizmath function for creating circle points\n",
    "    for cp in circle_point_list: # loop through each circle point\n",
    "        radial_background.append(id=i, x=cp[0], y=cp[1], path=cp[2]) # add data to the vizmath object\n",
    "radial_background.to_dataframe() # add a dataframe version of the data to the vizmath object\n",
    "radial_background.dataframe_rescale(xmin=-2,xmax=2,ymin=-2,ymax=2) # rescale the x-y space (for Tableau's map layers)\n",
    "radial_background.df.head() # preview dataframe"
   ]
  },
  {
   "cell_type": "code",
   "execution_count": 16,
   "metadata": {},
   "outputs": [
    {
     "data": {
      "image/png": "[encoded data removed]",
      "text/plain": [
       "<Figure size 640x480 with 1 Axes>"
      ]
     },
     "metadata": {},
     "output_type": "display_data"
    }
   ],
   "source": [
    "radial_background.plot_xy() # plot the vizmath object"
   ]
  },
  {
   "cell_type": "code",
   "execution_count": 17,
   "metadata": {},
   "outputs": [],
   "source": [
    "radial_background.df.to_csv('catsdogs_radial_background.csv', encoding='utf-8', index=False) # pandas write"
   ]
  },
  {
   "attachments": {},
   "cell_type": "markdown",
   "metadata": {},
   "source": [
    "#### All done, bring the csv files into Tableau and add the points to map layers!"
   ]
  }
 ],
 "metadata": {
  "kernelspec": {
   "display_name": "venv_git_3_7_9",
   "language": "python",
   "name": "python3"
  },
  "language_info": {
   "codemirror_mode": {
    "name": "ipython",
    "version": 3
   },
   "file_extension": ".py",
   "mimetype": "text/x-python",
   "name": "python",
   "nbconvert_exporter": "python",
   "pygments_lexer": "ipython3",
   "version": "3.7.9"
  },
  "orig_nbformat": 4
 },
 "nbformat": 4,
 "nbformat_minor": 2
}
